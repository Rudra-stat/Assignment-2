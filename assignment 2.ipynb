{
 "cells": [
  {
   "cell_type": "code",
   "execution_count": 114,
   "metadata": {},
   "outputs": [
    {
     "data": {
      "text/plain": [
       "120"
      ]
     },
     "execution_count": 114,
     "metadata": {},
     "output_type": "execute_result"
    }
   ],
   "source": [
    "def multipy(x1,x2):\n",
    "    return x1*x2\n",
    "\n",
    "\n",
    "aj=[1,2,3,4,5]\n",
    "\n",
    "def my_reduce(func,ash):\n",
    "    patil = ash[0]\n",
    "    for i in ash[1:]:\n",
    "        patil =func(patil,i)\n",
    "    return patil\n",
    "\n",
    "my_reduce(multipy,aj)"
   ]
  },
  {
   "cell_type": "code",
   "execution_count": 115,
   "metadata": {},
   "outputs": [],
   "source": [
    "a=list(range(20))"
   ]
  },
  {
   "cell_type": "code",
   "execution_count": 116,
   "metadata": {},
   "outputs": [
    {
     "data": {
      "text/plain": [
       "[1, 3, 5, 7, 9, 11, 13, 15, 17, 19]"
      ]
     },
     "execution_count": 116,
     "metadata": {},
     "output_type": "execute_result"
    }
   ],
   "source": [
    "def odd_num(num):\n",
    "    if num%2==1:\n",
    "        return True\n",
    "    else:\n",
    "        return False\n",
    "    \n",
    "def my_filter(fun,lst):\n",
    "    d=list(map(fun,lst))\n",
    "    s=[]\n",
    "    for i in a:\n",
    "        if d[i]==True:\n",
    "            s.append(lst[i])\n",
    "    return s\n",
    "my_filter(odd_num,a)"
   ]
  },
  {
   "cell_type": "code",
   "execution_count": 117,
   "metadata": {},
   "outputs": [
    {
     "data": {
      "text/plain": [
       "[1, 3, 5, 7, 9, 11, 13, 15, 17, 19]"
      ]
     },
     "execution_count": 117,
     "metadata": {},
     "output_type": "execute_result"
    }
   ],
   "source": [
    "def odd_num(num):\n",
    "    if num%2==1:\n",
    "        return True\n",
    "    else:\n",
    "        return False\n",
    "    \n",
    "def my_filter(func,data):\n",
    "    l=[]\n",
    "    s=[]\n",
    "    for i in data:\n",
    "        out=func(i)\n",
    "        l.append(out)\n",
    "        if l[i]==True:\n",
    "            s.append(data[i])\n",
    "    return s\n",
    "        \n",
    "my_filter(odd_num,a)"
   ]
  },
  {
   "cell_type": "code",
   "execution_count": 16,
   "metadata": {},
   "outputs": [
    {
     "name": "stdout",
     "output_type": "stream",
     "text": [
      "['A', 'C', 'A', 'D', 'G', 'I', 'L', 'D']\n",
      "['x', 'xx', 'xxx', 'xxxx', 'y', 'yy', 'yyy', 'yyyy', 'z', 'zz', 'zzz', 'zzzz']\n",
      "['x', 'y', 'z', 'xx', 'yy', 'zz', 'xxx', 'yyy', 'zzz', 'xxxx', 'yyyy', 'zzzz']\n",
      "[[2], [3], [4], [3], [4], [5], [4], [5], [6]]\n",
      "[[2, 3, 4, 5], [3, 4, 5, 6], [4, 5, 6, 7], [5, 6, 7, 8]]\n",
      "[(1, 1), (2, 1), (3, 1), (1, 2), (2, 2), (3, 2), (1, 3), (2, 3), (3, 3)]\n"
     ]
    }
   ],
   "source": [
    "s=['x','y','z']\n",
    "y=[2,3,4]\n",
    "z=[2,3,4,5]\n",
    "w=[1,2,3]\n",
    "x=list(map(lambda x:x, \"ACADGILD\"))\n",
    "a=[x*i for x in s for i in range(1,5)]\n",
    "b=[x*i for i in range(1,5) for x in s]\n",
    "c=[[x+i] for i in range(0,3) for x in y]          \n",
    "d=[[x+i for i in range(0,4)] for x in z]  \n",
    "e=[(x,i)for i in w for x in w]\n",
    "print(x)\n",
    "print(a)\n",
    "print(b)\n",
    "print(c)\n",
    "print(d)\n",
    "print(e)    "
   ]
  },
  {
   "cell_type": "code",
   "execution_count": 48,
   "metadata": {},
   "outputs": [
    {
     "name": "stdout",
     "output_type": "stream",
     "text": [
      "Enter the length of first side = 2\n",
      "Enter the length of second side = 4\n",
      "Enter the length of third side = 5\n"
     ]
    },
    {
     "data": {
      "text/plain": [
       "<__main__.Triangle at 0x1e666bb6ef0>"
      ]
     },
     "execution_count": 48,
     "metadata": {},
     "output_type": "execute_result"
    }
   ],
   "source": [
    "class Triangle:\n",
    "    def __init__(self,a,b,c):\n",
    "        self.a=float(a)\n",
    "        self.b=float(b)\n",
    "        self.c=float(c)\n",
    "        \n",
    "    def area(self):\n",
    "        s=(self.a+self.b+self.c)/2\n",
    "        return ((s*(s-self.a)*(s-self.b)*(s-self.c))**0.5)\n",
    "    \n",
    "a=input(\"Enter the length of first side = \")\n",
    "b=input(\"Enter the length of second side = \")\n",
    "c=input(\"Enter the length of third side = \")\n",
    "d=Triangle(a,b,c)\n",
    "print(\"Area of Triangle is  {}\".format(d.area()))\n",
    "\n"
   ]
  },
  {
   "cell_type": "code",
   "execution_count": 81,
   "metadata": {},
   "outputs": [
    {
     "name": "stdout",
     "output_type": "stream",
     "text": [
      "Enter list of words : ad,sga,gad\n",
      "Enter integer: 2\n",
      " List of Words length longer than  2 is []\n"
     ]
    }
   ],
   "source": [
    "def filter_long_words(w,d):\n",
    "    words=[]\n",
    "    for i in w:\n",
    "        if (len(i)>d):\n",
    "            words.append(i)\n",
    "    return words\n",
    "\n",
    "j=input(\"Enter list of words : \")\n",
    "jk=j.split(\",\")\n",
    "d=input(\"Enter integer: \")\n",
    "\n",
    "s=filter_long_words(jk,int(d))\n",
    "print(\" List of Words length longer than \",int(d),\"is\",s)"
   ]
  },
  {
   "cell_type": "code",
   "execution_count": 85,
   "metadata": {},
   "outputs": [
    {
     "name": "stdout",
     "output_type": "stream",
     "text": [
      "Enter list of words : adf,gad,asd,gad,as\n",
      " Length of given words is :  [3, 3, 3, 3, 2]\n"
     ]
    }
   ],
   "source": [
    "def filter_long_words(w):\n",
    "    words=[]\n",
    "    for i in w:\n",
    "        a=len(i)\n",
    "        words.append(a)\n",
    "    return words\n",
    "\n",
    "j=input(\"Enter list of words : \")\n",
    "jk=j.split(\",\")\n",
    "s=filter_long_words(jk)\n",
    "print(\" Length of given words is \",s)"
   ]
  },
  {
   "cell_type": "code",
   "execution_count": 169,
   "metadata": {},
   "outputs": [
    {
     "name": "stdout",
     "output_type": "stream",
     "text": [
      "O\n"
     ]
    },
    {
     "data": {
      "text/plain": [
       "'True'"
      ]
     },
     "execution_count": 169,
     "metadata": {},
     "output_type": "execute_result"
    }
   ],
   "source": [
    "def vowels(letters):\n",
    "    v=['a','e','o','i','u',\"A\",\"E\",\"O\",\"I\",\"U\"]\n",
    "    for i in v:\n",
    "        if letters==i:\n",
    "            return \"True\"\n",
    "    else:\n",
    "            return \"False\"\n",
    "d=input()\n",
    "vowels(d)"
   ]
  },
  {
   "cell_type": "code",
   "execution_count": 153,
   "metadata": {},
   "outputs": [
    {
     "ename": "SyntaxError",
     "evalue": "invalid syntax (<ipython-input-153-6fdaa04cd847>, line 1)",
     "output_type": "error",
     "traceback": [
      "\u001b[1;36m  File \u001b[1;32m\"<ipython-input-153-6fdaa04cd847>\"\u001b[1;36m, line \u001b[1;32m1\u001b[0m\n\u001b[1;33m    for i in 0:3:\u001b[0m\n\u001b[1;37m                 ^\u001b[0m\n\u001b[1;31mSyntaxError\u001b[0m\u001b[1;31m:\u001b[0m invalid syntax\n"
     ]
    }
   ],
   "source": [
    "  for i in 0:3:\n",
    "        print(i)"
   ]
  },
  {
   "cell_type": "code",
   "execution_count": 164,
   "metadata": {},
   "outputs": [
    {
     "name": "stdout",
     "output_type": "stream",
     "text": [
      "A\n"
     ]
    },
    {
     "data": {
      "text/plain": [
       "'True'"
      ]
     },
     "execution_count": 164,
     "metadata": {},
     "output_type": "execute_result"
    }
   ],
   "source": [
    " \n",
    "def vowelChecker (inputChar):\n",
    "    if (inputChar == \"a\" or inputChar == \"A\" or\n",
    "     inputChar == \"e\" or inputChar == \"E\" or\n",
    "     inputChar == \"i\" or inputChar == \"I\" or\n",
    "     inputChar == \"o\" or inputChar == \"O\" or\n",
    "     inputChar == \"u\" or inputChar == \"U\"):\n",
    "        return \"True\"\n",
    "    else:\n",
    "        return \"False\"\n",
    " \n",
    "    \n",
    "inputChar = input()\n",
    "vowelChecker (inputChar) \n"
   ]
  },
  {
   "cell_type": "code",
   "execution_count": null,
   "metadata": {},
   "outputs": [],
   "source": []
  },
  {
   "cell_type": "code",
   "execution_count": null,
   "metadata": {},
   "outputs": [],
   "source": []
  }
 ],
 "metadata": {
  "kernelspec": {
   "display_name": "Python 3",
   "language": "python",
   "name": "python3"
  },
  "language_info": {
   "codemirror_mode": {
    "name": "ipython",
    "version": 3
   },
   "file_extension": ".py",
   "mimetype": "text/x-python",
   "name": "python",
   "nbconvert_exporter": "python",
   "pygments_lexer": "ipython3",
   "version": "3.7.3"
  }
 },
 "nbformat": 4,
 "nbformat_minor": 2
}
